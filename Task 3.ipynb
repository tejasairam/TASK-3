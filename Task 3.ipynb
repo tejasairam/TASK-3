{
 "cells": [
  {
   "cell_type": "code",
   "execution_count": 11,
   "id": "2e5b5bc5",
   "metadata": {},
   "outputs": [
    {
     "name": "stdout",
     "output_type": "stream",
     "text": [
      "Enter city: Delhi\n",
      "The weather in Delhi is: Haze\n",
      "The temperature in Delhi is: 82ºF\n",
      "The humidity in Delhi is: 51%\n"
     ]
    }
   ],
   "source": [
    "import requests\n",
    "\n",
    "api_key='0c5a1d3c531da54a3d9bde88540cf84f'\n",
    "\n",
    "user_input = input(\"Enter city: \")\n",
    "\n",
    "weather_data = requests.get(f\"https://api.openweathermap.org/data/2.5/weather?q={user_input}&units=imperial&APPID={api_key}\")\n",
    "\n",
    "if weather_data.json()['cod'] == '404':\n",
    "    print(\"No City Found\")\n",
    "else:\n",
    "    weather = weather_data.json()['weather'][0]['main']\n",
    "    temp = round(weather_data.json()['main']['temp'])\n",
    "    humidity = round(weather_data.json()['main']['humidity'])\n",
    "\n",
    "    print(f\"The weather in {user_input} is: {weather}\")\n",
    "    print(f\"The temperature in {user_input} is: {temp}ºF\")\n",
    "    print(f\"The humidity in {user_input} is: {humidity}%\")"
   ]
  },
  {
   "cell_type": "code",
   "execution_count": null,
   "id": "40cfb12d",
   "metadata": {},
   "outputs": [],
   "source": []
  }
 ],
 "metadata": {
  "kernelspec": {
   "display_name": "Python 3 (ipykernel)",
   "language": "python",
   "name": "python3"
  },
  "language_info": {
   "codemirror_mode": {
    "name": "ipython",
    "version": 3
   },
   "file_extension": ".py",
   "mimetype": "text/x-python",
   "name": "python",
   "nbconvert_exporter": "python",
   "pygments_lexer": "ipython3",
   "version": "3.10.9"
  }
 },
 "nbformat": 4,
 "nbformat_minor": 5
}
